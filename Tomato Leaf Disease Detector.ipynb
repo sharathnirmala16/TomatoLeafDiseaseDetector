{
 "cells": [
  {
   "cell_type": "code",
   "execution_count": 1,
   "metadata": {},
   "outputs": [],
   "source": [
    "import tensorflow as tf\n",
    "from tensorflow.keras.preprocessing.image import ImageDataGenerator"
   ]
  },
  {
   "cell_type": "code",
   "execution_count": 2,
   "metadata": {},
   "outputs": [
    {
     "data": {
      "text/plain": [
       "'/device:GPU:0'"
      ]
     },
     "execution_count": 2,
     "metadata": {},
     "output_type": "execute_result"
    }
   ],
   "source": [
    "tf.test.gpu_device_name()"
   ]
  },
  {
   "cell_type": "code",
   "execution_count": 3,
   "metadata": {},
   "outputs": [
    {
     "name": "stdout",
     "output_type": "stream",
     "text": [
      "Found 10000 images belonging to 10 classes.\n"
     ]
    }
   ],
   "source": [
    "#Preprocessing the training data\n",
    "train_datagen = ImageDataGenerator(rescale = 1./255,\n",
    "                                   shear_range = 0.2,\n",
    "                                   zoom_range = 0.2,\n",
    "                                   horizontal_flip = True)\n",
    "training_set = train_datagen.flow_from_directory('/tf/dataset/tomato/train',\n",
    "                                                 target_size = (96, 96),\n",
    "                                                 batch_size = 32,\n",
    "                                                 class_mode = 'categorical')"
   ]
  },
  {
   "cell_type": "code",
   "execution_count": 4,
   "metadata": {},
   "outputs": [
    {
     "name": "stdout",
     "output_type": "stream",
     "text": [
      "Found 1000 images belonging to 10 classes.\n"
     ]
    }
   ],
   "source": [
    "#Preprocessing the testing data\n",
    "test_datagen = ImageDataGenerator(rescale = 1./255)\n",
    "test_set = test_datagen.flow_from_directory('/tf/dataset/tomato/val',\n",
    "                                            target_size = (96, 96),\n",
    "                                            batch_size = 32,\n",
    "                                            class_mode = 'categorical')"
   ]
  },
  {
   "cell_type": "code",
   "execution_count": 8,
   "metadata": {},
   "outputs": [
    {
     "name": "stdout",
     "output_type": "stream",
     "text": [
      "Epoch 1/50\n",
      "209/209 [==============================] - 41s 193ms/step - loss: 2.3032 - accuracy: 0.1017 - val_loss: 2.3027 - val_accuracy: 0.1000\n",
      "Epoch 2/50\n",
      "209/209 [==============================] - 41s 196ms/step - loss: 2.2976 - accuracy: 0.1042 - val_loss: 2.2896 - val_accuracy: 0.1060\n",
      "Epoch 3/50\n",
      "209/209 [==============================] - 41s 198ms/step - loss: 2.2503 - accuracy: 0.1317 - val_loss: 2.1779 - val_accuracy: 0.1630\n",
      "Epoch 4/50\n",
      "209/209 [==============================] - 40s 192ms/step - loss: 2.1001 - accuracy: 0.2114 - val_loss: 2.1572 - val_accuracy: 0.1720\n",
      "Epoch 5/50\n",
      "209/209 [==============================] - 41s 194ms/step - loss: 1.8918 - accuracy: 0.2924 - val_loss: 1.9443 - val_accuracy: 0.3090\n",
      "Epoch 6/50\n",
      "209/209 [==============================] - 40s 192ms/step - loss: 1.6856 - accuracy: 0.3676 - val_loss: 1.5649 - val_accuracy: 0.4340\n",
      "Epoch 7/50\n",
      "209/209 [==============================] - 40s 193ms/step - loss: 1.5136 - accuracy: 0.4468 - val_loss: 1.4635 - val_accuracy: 0.4940\n",
      "Epoch 8/50\n",
      "209/209 [==============================] - 41s 196ms/step - loss: 1.3661 - accuracy: 0.5045 - val_loss: 1.4019 - val_accuracy: 0.5050\n",
      "Epoch 9/50\n",
      "209/209 [==============================] - 40s 193ms/step - loss: 1.2536 - accuracy: 0.5566 - val_loss: 1.2272 - val_accuracy: 0.5690\n",
      "Epoch 10/50\n",
      "209/209 [==============================] - 40s 192ms/step - loss: 1.1828 - accuracy: 0.5782 - val_loss: 1.1856 - val_accuracy: 0.5540\n",
      "Epoch 11/50\n",
      "209/209 [==============================] - 42s 199ms/step - loss: 1.1246 - accuracy: 0.6029 - val_loss: 1.1736 - val_accuracy: 0.5600\n",
      "Epoch 12/50\n",
      "209/209 [==============================] - 41s 194ms/step - loss: 1.0785 - accuracy: 0.6155 - val_loss: 1.0826 - val_accuracy: 0.6080\n",
      "Epoch 13/50\n",
      "209/209 [==============================] - 40s 191ms/step - loss: 1.0271 - accuracy: 0.6365 - val_loss: 1.3594 - val_accuracy: 0.5270\n",
      "Epoch 14/50\n",
      "209/209 [==============================] - 40s 192ms/step - loss: 0.9671 - accuracy: 0.6562 - val_loss: 1.3317 - val_accuracy: 0.5060\n",
      "Epoch 15/50\n",
      "209/209 [==============================] - 40s 193ms/step - loss: 0.9632 - accuracy: 0.6616 - val_loss: 1.0638 - val_accuracy: 0.6170\n",
      "Epoch 16/50\n",
      "209/209 [==============================] - 40s 193ms/step - loss: 0.8920 - accuracy: 0.6853 - val_loss: 0.9834 - val_accuracy: 0.6640\n",
      "Epoch 17/50\n",
      "209/209 [==============================] - 46s 219ms/step - loss: 0.8496 - accuracy: 0.7012 - val_loss: 1.0244 - val_accuracy: 0.6640\n",
      "Epoch 18/50\n",
      "209/209 [==============================] - 48s 229ms/step - loss: 0.7482 - accuracy: 0.7327 - val_loss: 0.8775 - val_accuracy: 0.7190\n",
      "Epoch 19/50\n",
      "209/209 [==============================] - 42s 199ms/step - loss: 0.6801 - accuracy: 0.7604 - val_loss: 0.8653 - val_accuracy: 0.6950\n",
      "Epoch 20/50\n",
      "209/209 [==============================] - 41s 198ms/step - loss: 0.6768 - accuracy: 0.7661 - val_loss: 0.8033 - val_accuracy: 0.7580\n",
      "Epoch 21/50\n",
      "209/209 [==============================] - 44s 210ms/step - loss: 0.6160 - accuracy: 0.7842 - val_loss: 0.7336 - val_accuracy: 0.7650\n",
      "Epoch 22/50\n",
      "209/209 [==============================] - 42s 200ms/step - loss: 0.6005 - accuracy: 0.7885 - val_loss: 0.7333 - val_accuracy: 0.7550\n",
      "Epoch 23/50\n",
      "209/209 [==============================] - 42s 198ms/step - loss: 0.5471 - accuracy: 0.8068 - val_loss: 0.8222 - val_accuracy: 0.7330\n",
      "Epoch 24/50\n",
      "209/209 [==============================] - 41s 196ms/step - loss: 0.4976 - accuracy: 0.8218 - val_loss: 0.6745 - val_accuracy: 0.7830\n",
      "Epoch 25/50\n",
      "209/209 [==============================] - 41s 196ms/step - loss: 0.4902 - accuracy: 0.8251 - val_loss: 0.5904 - val_accuracy: 0.8040\n",
      "Epoch 26/50\n",
      "209/209 [==============================] - 41s 197ms/step - loss: 0.4379 - accuracy: 0.8410 - val_loss: 0.6831 - val_accuracy: 0.7620\n",
      "Epoch 27/50\n",
      "209/209 [==============================] - 41s 197ms/step - loss: 0.3976 - accuracy: 0.8588 - val_loss: 0.6762 - val_accuracy: 0.7760\n",
      "Epoch 28/50\n",
      "209/209 [==============================] - 41s 197ms/step - loss: 0.4098 - accuracy: 0.8576 - val_loss: 0.7546 - val_accuracy: 0.7510\n",
      "Epoch 29/50\n",
      "209/209 [==============================] - 41s 196ms/step - loss: 0.3727 - accuracy: 0.8646 - val_loss: 0.5945 - val_accuracy: 0.8200\n",
      "Epoch 30/50\n",
      "209/209 [==============================] - 41s 197ms/step - loss: 0.3747 - accuracy: 0.8636 - val_loss: 0.6764 - val_accuracy: 0.7980\n",
      "Epoch 31/50\n",
      "209/209 [==============================] - 41s 197ms/step - loss: 0.3492 - accuracy: 0.8769 - val_loss: 0.6583 - val_accuracy: 0.7930\n",
      "Epoch 32/50\n",
      "209/209 [==============================] - 44s 210ms/step - loss: 0.3139 - accuracy: 0.8881 - val_loss: 0.6751 - val_accuracy: 0.8030\n",
      "Epoch 33/50\n",
      "209/209 [==============================] - 41s 196ms/step - loss: 0.3059 - accuracy: 0.8907 - val_loss: 0.6065 - val_accuracy: 0.8190\n",
      "Epoch 34/50\n",
      "209/209 [==============================] - 41s 196ms/step - loss: 0.3057 - accuracy: 0.8897 - val_loss: 0.7643 - val_accuracy: 0.7720\n",
      "Epoch 35/50\n",
      "209/209 [==============================] - 42s 199ms/step - loss: 0.2889 - accuracy: 0.8955 - val_loss: 0.6729 - val_accuracy: 0.7930\n",
      "Epoch 36/50\n",
      "209/209 [==============================] - 42s 199ms/step - loss: 0.2762 - accuracy: 0.9030 - val_loss: 0.6371 - val_accuracy: 0.7870\n",
      "Epoch 37/50\n",
      "209/209 [==============================] - 41s 195ms/step - loss: 0.2467 - accuracy: 0.9110 - val_loss: 0.6311 - val_accuracy: 0.8150\n",
      "Epoch 38/50\n",
      "209/209 [==============================] - 41s 195ms/step - loss: 0.2435 - accuracy: 0.9128 - val_loss: 0.5942 - val_accuracy: 0.8310\n",
      "Epoch 39/50\n",
      "209/209 [==============================] - 43s 206ms/step - loss: 0.2650 - accuracy: 0.9041 - val_loss: 0.5315 - val_accuracy: 0.8400\n",
      "Epoch 40/50\n",
      "209/209 [==============================] - 42s 199ms/step - loss: 0.2224 - accuracy: 0.9193 - val_loss: 0.6067 - val_accuracy: 0.8140\n",
      "Epoch 41/50\n",
      "209/209 [==============================] - 42s 199ms/step - loss: 0.2596 - accuracy: 0.9103 - val_loss: 0.6077 - val_accuracy: 0.8280\n",
      "Epoch 42/50\n",
      "209/209 [==============================] - 42s 200ms/step - loss: 0.2147 - accuracy: 0.9252 - val_loss: 0.5749 - val_accuracy: 0.8300\n",
      "Epoch 43/50\n",
      "209/209 [==============================] - 43s 205ms/step - loss: 0.2125 - accuracy: 0.9276 - val_loss: 0.6364 - val_accuracy: 0.8120\n",
      "Epoch 44/50\n",
      "209/209 [==============================] - 48s 228ms/step - loss: 0.2122 - accuracy: 0.9245 - val_loss: 0.5972 - val_accuracy: 0.8220\n",
      "Epoch 45/50\n",
      "209/209 [==============================] - 44s 208ms/step - loss: 0.1927 - accuracy: 0.9332 - val_loss: 0.5724 - val_accuracy: 0.8270\n",
      "Epoch 46/50\n",
      "209/209 [==============================] - 43s 204ms/step - loss: 0.2151 - accuracy: 0.9264 - val_loss: 0.7603 - val_accuracy: 0.7900\n",
      "Epoch 47/50\n",
      "209/209 [==============================] - 42s 202ms/step - loss: 0.2150 - accuracy: 0.9256 - val_loss: 0.5369 - val_accuracy: 0.8570\n",
      "Epoch 48/50\n",
      "209/209 [==============================] - 43s 205ms/step - loss: 0.1876 - accuracy: 0.9345 - val_loss: 0.6969 - val_accuracy: 0.8170\n",
      "Epoch 49/50\n",
      "209/209 [==============================] - 43s 204ms/step - loss: 0.1984 - accuracy: 0.9308 - val_loss: 0.6593 - val_accuracy: 0.8210\n",
      "Epoch 50/50\n",
      "209/209 [==============================] - 43s 206ms/step - loss: 0.1735 - accuracy: 0.9395 - val_loss: 0.5612 - val_accuracy: 0.8340\n"
     ]
    }
   ],
   "source": [
    "#Initializing the CNN\n",
    "cnn = tf.keras.models.Sequential()\n",
    "\n",
    "#Convolution\n",
    "cnn.add(tf.keras.layers.Conv2D(filters = 64, kernel_size = 6, activation = 'relu', input_shape = [96, 96, 3]))\n",
    "\n",
    "#Pooling\n",
    "cnn.add(tf.keras.layers.MaxPool2D(pool_size = 4, strides = 3))\n",
    "\n",
    "#Adding a second convolution and pooling layer\n",
    "cnn.add(tf.keras.layers.Conv2D(filters = 56, kernel_size = 5, activation = 'relu'))\n",
    "cnn.add(tf.keras.layers.MaxPool2D(pool_size = 4, strides = 3))\n",
    "\n",
    "#Flattening\n",
    "cnn.add(tf.keras.layers.Flatten())\n",
    "\n",
    "#Full Connection\n",
    "cnn.add(tf.keras.layers.Dense(units = 512, activation = 'relu'))\n",
    "cnn.add(tf.keras.layers.Dense(units = 1024, activation = 'relu'))\n",
    "cnn.add(tf.keras.layers.Dense(units = 512, activation = 'relu'))\n",
    "cnn.add(tf.keras.layers.Dense(units = 1024, activation = 'relu'))\n",
    "cnn.add(tf.keras.layers.Dense(units = 512, activation = 'relu'))\n",
    "    \n",
    "#Output Layer\n",
    "cnn.add(tf.keras.layers.Dense(units = 10, activation = 'sigmoid'))\n",
    "    \n",
    "#Training the CNN\n",
    "    \n",
    "#Compiling the CNN\n",
    "cnn.compile(optimizer = 'adam', loss = 'categorical_crossentropy', metrics = ['accuracy'])\n",
    "\n",
    "#Training the CNN on the training set and testing it on the testing dataset\n",
    "with tf.device('/gpu:0'):\n",
    "    cnn.fit(x = training_set, validation_data = test_set, epochs = 50, verbose = 1)"
   ]
  },
  {
   "cell_type": "code",
   "execution_count": 10,
   "metadata": {},
   "outputs": [],
   "source": [
    "from tensorflow.keras.models import load_model\n",
    "cnn.save('model_weights.h5')"
   ]
  },
  {
   "cell_type": "code",
   "execution_count": null,
   "metadata": {},
   "outputs": [],
   "source": []
  }
 ],
 "metadata": {
  "kernelspec": {
   "display_name": "Python 3",
   "language": "python",
   "name": "python3"
  },
  "language_info": {
   "codemirror_mode": {
    "name": "ipython",
    "version": 3
   },
   "file_extension": ".py",
   "mimetype": "text/x-python",
   "name": "python",
   "nbconvert_exporter": "python",
   "pygments_lexer": "ipython3",
   "version": "3.8.10"
  }
 },
 "nbformat": 4,
 "nbformat_minor": 2
}
